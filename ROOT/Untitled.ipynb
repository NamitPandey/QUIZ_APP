{
 "cells": [
  {
   "cell_type": "code",
   "execution_count": 49,
   "metadata": {},
   "outputs": [],
   "source": [
    "import pandas as pd\n",
    "import datetime\n"
   ]
  },
  {
   "cell_type": "code",
   "execution_count": 107,
   "metadata": {},
   "outputs": [],
   "source": [
    "uploadedData = pd.read_excel(\"/mnt/1E52A1F652A1D337/PERSONAL/QUIZ_APP/DOCUMENT/Old_Docs/allowed_enrolls.xlsx\")"
   ]
  },
  {
   "cell_type": "code",
   "execution_count": 120,
   "metadata": {},
   "outputs": [],
   "source": [
    "def convert_to_str(x):\n",
    "    \n",
    "    return str(int(x))\n",
    "\n",
    "def convert_to_dateTime(x):\n",
    "    \n",
    "    return datetime.datetime.strptime(x, \"%Y-%m-%d %H:%M:%S\")"
   ]
  },
  {
   "cell_type": "code",
   "execution_count": 111,
   "metadata": {},
   "outputs": [
    {
     "data": {
      "text/html": [
       "<div>\n",
       "<style scoped>\n",
       "    .dataframe tbody tr th:only-of-type {\n",
       "        vertical-align: middle;\n",
       "    }\n",
       "\n",
       "    .dataframe tbody tr th {\n",
       "        vertical-align: top;\n",
       "    }\n",
       "\n",
       "    .dataframe thead th {\n",
       "        text-align: right;\n",
       "    }\n",
       "</style>\n",
       "<table border=\"1\" class=\"dataframe\">\n",
       "  <thead>\n",
       "    <tr style=\"text-align: right;\">\n",
       "      <th></th>\n",
       "      <th>ENROLLMENT_NUMBER</th>\n",
       "      <th>YEAR</th>\n",
       "      <th>MONTH</th>\n",
       "      <th>DATE</th>\n",
       "      <th>START_TIME</th>\n",
       "      <th>END_TIME</th>\n",
       "    </tr>\n",
       "  </thead>\n",
       "  <tbody>\n",
       "    <tr>\n",
       "      <th>0</th>\n",
       "      <td>19bt04001</td>\n",
       "      <td>2021</td>\n",
       "      <td>7</td>\n",
       "      <td>20</td>\n",
       "      <td>23:40:00</td>\n",
       "      <td>23:50:00</td>\n",
       "    </tr>\n",
       "    <tr>\n",
       "      <th>1</th>\n",
       "      <td>19bt04002</td>\n",
       "      <td>2021</td>\n",
       "      <td>7</td>\n",
       "      <td>20</td>\n",
       "      <td>23:40:00</td>\n",
       "      <td>23:50:00</td>\n",
       "    </tr>\n",
       "    <tr>\n",
       "      <th>2</th>\n",
       "      <td>19bt04003</td>\n",
       "      <td>2021</td>\n",
       "      <td>7</td>\n",
       "      <td>20</td>\n",
       "      <td>23:40:00</td>\n",
       "      <td>23:50:00</td>\n",
       "    </tr>\n",
       "    <tr>\n",
       "      <th>3</th>\n",
       "      <td>19bt04004</td>\n",
       "      <td>2021</td>\n",
       "      <td>7</td>\n",
       "      <td>20</td>\n",
       "      <td>23:40:00</td>\n",
       "      <td>23:50:00</td>\n",
       "    </tr>\n",
       "    <tr>\n",
       "      <th>4</th>\n",
       "      <td>19bt04005</td>\n",
       "      <td>2021</td>\n",
       "      <td>7</td>\n",
       "      <td>20</td>\n",
       "      <td>23:40:00</td>\n",
       "      <td>23:50:00</td>\n",
       "    </tr>\n",
       "  </tbody>\n",
       "</table>\n",
       "</div>"
      ],
      "text/plain": [
       "  ENROLLMENT_NUMBER  YEAR  MONTH  DATE START_TIME  END_TIME\n",
       "0         19bt04001  2021      7    20   23:40:00  23:50:00\n",
       "1         19bt04002  2021      7    20   23:40:00  23:50:00\n",
       "2         19bt04003  2021      7    20   23:40:00  23:50:00\n",
       "3         19bt04004  2021      7    20   23:40:00  23:50:00\n",
       "4         19bt04005  2021      7    20   23:40:00  23:50:00"
      ]
     },
     "execution_count": 111,
     "metadata": {},
     "output_type": "execute_result"
    }
   ],
   "source": [
    "uploadedData.head()"
   ]
  },
  {
   "cell_type": "code",
   "execution_count": 113,
   "metadata": {},
   "outputs": [],
   "source": [
    "uploadedData['YEAR'] = uploadedData['YEAR'].apply(convert_to_str)\n",
    "uploadedData['MONTH'] = uploadedData['MONTH'].apply(convert_to_str)\n",
    "uploadedData['DATE'] = uploadedData['DATE'].apply(convert_to_str)\n",
    "uploadedData['START_TIME'] = uploadedData['START_TIME'].apply(str)\n",
    "uploadedData['END_TIME'] = uploadedData['END_TIME'].apply(str)\n",
    "uploadedData['START_TIME'] = uploadedData['YEAR']+\"-\"+uploadedData['MONTH']+\"-\"+uploadedData['DATE']+\" \"+uploadedData['START_TIME']\n",
    "uploadedData['END_TIME'] = uploadedData['YEAR']+\"-\"+uploadedData['MONTH']+\"-\"+uploadedData['DATE']+\" \"+uploadedData['END_TIME']"
   ]
  },
  {
   "cell_type": "code",
   "execution_count": 116,
   "metadata": {},
   "outputs": [],
   "source": [
    "uploadedData['START_TIME'] = uploadedData['YEAR']+\"-\"+uploadedData['MONTH']+\"-\"+uploadedData['DATE']+\" \"+uploadedData['START_TIME']\n",
    "uploadedData['END_TIME'] = uploadedData['YEAR']+\"-\"+uploadedData['MONTH']+\"-\"+uploadedData['DATE']+\" \"+uploadedData['END_TIME']"
   ]
  },
  {
   "cell_type": "code",
   "execution_count": 122,
   "metadata": {},
   "outputs": [],
   "source": [
    "uploadedData['START_TIME'] = uploadedData['START_TIME'].apply(convert_to_dateTime)\n",
    "uploadedData['END_TIME'] = uploadedData['END_TIME'].apply(convert_to_dateTime)"
   ]
  },
  {
   "cell_type": "code",
   "execution_count": 121,
   "metadata": {},
   "outputs": [],
   "source": [
    "uploadedData['END_TIME'] = uploadedData['END_TIME'].apply(convert_to_dateTime)"
   ]
  },
  {
   "cell_type": "code",
   "execution_count": 124,
   "metadata": {},
   "outputs": [
    {
     "data": {
      "text/plain": [
       "0     False\n",
       "1     False\n",
       "2     False\n",
       "3     False\n",
       "4     False\n",
       "5     False\n",
       "6     False\n",
       "7     False\n",
       "8     False\n",
       "9     False\n",
       "10    False\n",
       "11    False\n",
       "12    False\n",
       "13    False\n",
       "14    False\n",
       "15    False\n",
       "16    False\n",
       "17    False\n",
       "18    False\n",
       "19    False\n",
       "20    False\n",
       "21    False\n",
       "22    False\n",
       "23    False\n",
       "24    False\n",
       "25    False\n",
       "26    False\n",
       "27    False\n",
       "28    False\n",
       "29    False\n",
       "30    False\n",
       "31    False\n",
       "32    False\n",
       "33    False\n",
       "34    False\n",
       "35    False\n",
       "36    False\n",
       "37    False\n",
       "38    False\n",
       "dtype: bool"
      ]
     },
     "execution_count": 124,
     "metadata": {},
     "output_type": "execute_result"
    }
   ],
   "source": [
    "uploadedData['START_TIME'] > uploadedData['END_TIME']"
   ]
  },
  {
   "cell_type": "code",
   "execution_count": null,
   "metadata": {},
   "outputs": [],
   "source": []
  },
  {
   "cell_type": "code",
   "execution_count": null,
   "metadata": {},
   "outputs": [],
   "source": []
  },
  {
   "cell_type": "code",
   "execution_count": null,
   "metadata": {},
   "outputs": [],
   "source": []
  }
 ],
 "metadata": {
  "kernelspec": {
   "display_name": "Python 3",
   "language": "python",
   "name": "python3"
  },
  "language_info": {
   "codemirror_mode": {
    "name": "ipython",
    "version": 3
   },
   "file_extension": ".py",
   "mimetype": "text/x-python",
   "name": "python",
   "nbconvert_exporter": "python",
   "pygments_lexer": "ipython3",
   "version": "3.9.0"
  }
 },
 "nbformat": 4,
 "nbformat_minor": 4
}
